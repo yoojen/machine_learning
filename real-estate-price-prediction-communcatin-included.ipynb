{
 "cells": [
  {
   "cell_type": "markdown",
   "metadata": {},
   "source": [
    "<h1 style=\"text-align: justify\">🛑 During the analysis and model building I've built model that predict price of house with numerical variables and only categorical variable which is location</h1>"
   ]
  },
  {
   "cell_type": "markdown",
   "metadata": {},
   "source": [
    "# 1</span> | </span> Data Cleaning and Preparation"
   ]
  },
  {
   "cell_type": "markdown",
   "metadata": {},
   "source": [
    "# Import Libraries\n"
   ]
  },
  {
   "cell_type": "code",
   "execution_count": null,
   "metadata": {
    "execution": {
     "iopub.execute_input": "2024-12-04T07:29:18.020269Z",
     "iopub.status.busy": "2024-12-04T07:29:18.019946Z",
     "iopub.status.idle": "2024-12-04T07:29:18.025763Z",
     "shell.execute_reply": "2024-12-04T07:29:18.024910Z",
     "shell.execute_reply.started": "2024-12-04T07:29:18.020248Z"
    }
   },
   "outputs": [],
   "source": [
    "import pandas as pd\n",
    "import numpy as np\n",
    "import seaborn as sns\n",
    "import matplotlib.pyplot as plt\n",
    "%matplotlib inline\n",
    "import matplotlib\n",
    "import warnings\n",
    "warnings.filterwarnings('ignore')\n",
    "matplotlib.rcParams[\"figure.figsize\"] = (16,8)"
   ]
  },
  {
   "cell_type": "markdown",
   "metadata": {},
   "source": [
    "# 1| Load Dataset 📰"
   ]
  },
  {
   "cell_type": "code",
   "execution_count": null,
   "metadata": {
    "execution": {
     "iopub.execute_input": "2024-12-04T07:33:14.784294Z",
     "iopub.status.busy": "2024-12-04T07:33:14.783468Z",
     "iopub.status.idle": "2024-12-04T07:33:14.827516Z",
     "shell.execute_reply": "2024-12-04T07:33:14.826899Z",
     "shell.execute_reply.started": "2024-12-04T07:33:14.784264Z"
    }
   },
   "outputs": [],
   "source": [
    "df = pd.read_csv('C:/Users/Mr Eugene/Downloads/Bengaluru_House_Data.csv')"
   ]
  },
  {
   "cell_type": "code",
   "execution_count": null,
   "metadata": {
    "execution": {
     "iopub.execute_input": "2024-12-04T07:33:16.546055Z",
     "iopub.status.busy": "2024-12-04T07:33:16.545486Z",
     "iopub.status.idle": "2024-12-04T07:33:16.564290Z",
     "shell.execute_reply": "2024-12-04T07:33:16.563493Z",
     "shell.execute_reply.started": "2024-12-04T07:33:16.546026Z"
    }
   },
   "outputs": [],
   "source": [
    "df.head()"
   ]
  },
  {
   "cell_type": "markdown",
   "metadata": {},
   "source": [
    "# 2| Dataset Exploration"
   ]
  },
  {
   "cell_type": "code",
   "execution_count": null,
   "metadata": {
    "execution": {
     "iopub.execute_input": "2024-12-04T07:33:22.436039Z",
     "iopub.status.busy": "2024-12-04T07:33:22.435473Z",
     "iopub.status.idle": "2024-12-04T07:33:22.441130Z",
     "shell.execute_reply": "2024-12-04T07:33:22.440316Z",
     "shell.execute_reply.started": "2024-12-04T07:33:22.436009Z"
    }
   },
   "outputs": [],
   "source": [
    "df.shape"
   ]
  },
  {
   "cell_type": "code",
   "execution_count": null,
   "metadata": {
    "execution": {
     "iopub.execute_input": "2024-12-04T07:33:25.206487Z",
     "iopub.status.busy": "2024-12-04T07:33:25.205726Z",
     "iopub.status.idle": "2024-12-04T07:33:25.218069Z",
     "shell.execute_reply": "2024-12-04T07:33:25.217208Z",
     "shell.execute_reply.started": "2024-12-04T07:33:25.206455Z"
    }
   },
   "outputs": [],
   "source": [
    "area_types_count = df['area_type'].value_counts(normalize=True)"
   ]
  },
  {
   "cell_type": "code",
   "execution_count": null,
   "metadata": {
    "execution": {
     "iopub.execute_input": "2024-12-04T07:35:04.712048Z",
     "iopub.status.busy": "2024-12-04T07:35:04.711719Z",
     "iopub.status.idle": "2024-12-04T07:35:04.879139Z",
     "shell.execute_reply": "2024-12-04T07:35:04.878208Z",
     "shell.execute_reply.started": "2024-12-04T07:35:04.712022Z"
    }
   },
   "outputs": [],
   "source": [
    "fig, ax = plt.subplots(figsize=(5, 5))\n",
    "area_types_count.plot(kind='bar', ax=ax)\n",
    "plt.ylabel('Area Type')\n",
    "plt.xlabel('Frequency')\n",
    "plt.title('Area type counts');"
   ]
  },
  {
   "cell_type": "code",
   "execution_count": null,
   "metadata": {},
   "outputs": [],
   "source": [
    "fig, ax = plt.subplots(figsize=(5, 5))\n",
    "(\n",
    "    df.sort_values(by='price', ascending=False).head(20)\n",
    "    .groupby('area_type')['area_type'].count()\n",
    "    .plot(kind='bar', ax=ax)\n",
    ")\n",
    "plt.xlabel(\"Area Type\")\n",
    "plt.ylabel(\"Frequency\")\n",
    "plt.title(\"Top 20 expensive houses count (Area Type representation)\")\n",
    "plt.legend();"
   ]
  },
  {
   "cell_type": "code",
   "execution_count": null,
   "metadata": {},
   "outputs": [],
   "source": [
    "fig, ax = plt.subplots(figsize=(5, 5))\n",
    "(\n",
    "    df.sort_values(by='price', ascending=True).head(20)\n",
    "    .groupby('area_type')['area_type'].count()\n",
    "    .plot(kind='bar', ax=ax)\n",
    ")\n",
    "plt.xlabel(\"Area Type\")\n",
    "plt.ylabel(\"Frequency\")\n",
    "plt.title(\"20 Least expensive houses count (Area Type representation)\")\n",
    "plt.legend();"
   ]
  },
  {
   "cell_type": "code",
   "execution_count": null,
   "metadata": {
    "execution": {
     "iopub.execute_input": "2024-12-04T07:36:59.782671Z",
     "iopub.status.busy": "2024-12-04T07:36:59.782047Z",
     "iopub.status.idle": "2024-12-04T07:36:59.794392Z",
     "shell.execute_reply": "2024-12-04T07:36:59.793248Z",
     "shell.execute_reply.started": "2024-12-04T07:36:59.782628Z"
    }
   },
   "outputs": [],
   "source": [
    "df['availability'].value_counts()"
   ]
  },
  {
   "cell_type": "code",
   "execution_count": null,
   "metadata": {
    "execution": {
     "iopub.execute_input": "2024-12-04T07:37:02.270608Z",
     "iopub.status.busy": "2024-12-04T07:37:02.270305Z",
     "iopub.status.idle": "2024-12-04T07:37:02.277837Z",
     "shell.execute_reply": "2024-12-04T07:37:02.277003Z",
     "shell.execute_reply.started": "2024-12-04T07:37:02.270583Z"
    }
   },
   "outputs": [],
   "source": [
    "df['size'].unique()"
   ]
  },
  {
   "cell_type": "markdown",
   "metadata": {},
   "source": [
    "# 3| Data Cleaning and Dataset Transformation"
   ]
  },
  {
   "cell_type": "code",
   "execution_count": null,
   "metadata": {
    "execution": {
     "iopub.execute_input": "2024-12-04T07:37:06.031348Z",
     "iopub.status.busy": "2024-12-04T07:37:06.030508Z",
     "iopub.status.idle": "2024-12-04T07:37:06.041265Z",
     "shell.execute_reply": "2024-12-04T07:37:06.040433Z",
     "shell.execute_reply.started": "2024-12-04T07:37:06.031318Z"
    }
   },
   "outputs": [],
   "source": [
    "df.isnull().sum()"
   ]
  },
  {
   "cell_type": "code",
   "execution_count": null,
   "metadata": {
    "execution": {
     "iopub.execute_input": "2024-12-04T07:37:10.575692Z",
     "iopub.status.busy": "2024-12-04T07:37:10.575370Z",
     "iopub.status.idle": "2024-12-04T07:37:10.580490Z",
     "shell.execute_reply": "2024-12-04T07:37:10.579672Z",
     "shell.execute_reply.started": "2024-12-04T07:37:10.575664Z"
    }
   },
   "outputs": [],
   "source": [
    "numerical_features = df.select_dtypes(include=[int, float])"
   ]
  },
  {
   "cell_type": "code",
   "execution_count": null,
   "metadata": {
    "execution": {
     "iopub.execute_input": "2024-12-04T07:37:14.981679Z",
     "iopub.status.busy": "2024-12-04T07:37:14.981377Z",
     "iopub.status.idle": "2024-12-04T07:37:14.988939Z",
     "shell.execute_reply": "2024-12-04T07:37:14.988216Z",
     "shell.execute_reply.started": "2024-12-04T07:37:14.981655Z"
    }
   },
   "outputs": [],
   "source": [
    "numerical_features.isnull().sum() > 0"
   ]
  },
  {
   "cell_type": "markdown",
   "metadata": {},
   "source": [
    "**I can fill missing values by the average as integer for these numerical features. Categorical features which are null will be deleted (dropped) from the dataset**"
   ]
  },
  {
   "cell_type": "code",
   "execution_count": null,
   "metadata": {
    "execution": {
     "iopub.execute_input": "2024-12-04T07:37:24.071634Z",
     "iopub.status.busy": "2024-12-04T07:37:24.071313Z",
     "iopub.status.idle": "2024-12-04T07:37:24.079718Z",
     "shell.execute_reply": "2024-12-04T07:37:24.078796Z",
     "shell.execute_reply.started": "2024-12-04T07:37:24.071608Z"
    }
   },
   "outputs": [],
   "source": [
    "numerical_features.apply(lambda x: round(np.mean(x)))"
   ]
  },
  {
   "cell_type": "code",
   "execution_count": null,
   "metadata": {
    "execution": {
     "iopub.execute_input": "2024-12-04T07:37:27.332945Z",
     "iopub.status.busy": "2024-12-04T07:37:27.332608Z",
     "iopub.status.idle": "2024-12-04T07:37:27.337914Z",
     "shell.execute_reply": "2024-12-04T07:37:27.337054Z",
     "shell.execute_reply.started": "2024-12-04T07:37:27.332917Z"
    }
   },
   "outputs": [],
   "source": [
    "df['bath'].fillna(3, inplace=True)"
   ]
  },
  {
   "cell_type": "code",
   "execution_count": null,
   "metadata": {
    "execution": {
     "iopub.execute_input": "2024-12-04T07:37:32.319627Z",
     "iopub.status.busy": "2024-12-04T07:37:32.319318Z",
     "iopub.status.idle": "2024-12-04T07:37:32.324699Z",
     "shell.execute_reply": "2024-12-04T07:37:32.323837Z",
     "shell.execute_reply.started": "2024-12-04T07:37:32.319602Z"
    }
   },
   "outputs": [],
   "source": [
    "df['balcony'].fillna(2, inplace=True)"
   ]
  },
  {
   "cell_type": "code",
   "execution_count": null,
   "metadata": {
    "execution": {
     "iopub.execute_input": "2024-12-04T07:37:33.690020Z",
     "iopub.status.busy": "2024-12-04T07:37:33.689479Z",
     "iopub.status.idle": "2024-12-04T07:37:33.700206Z",
     "shell.execute_reply": "2024-12-04T07:37:33.699398Z",
     "shell.execute_reply.started": "2024-12-04T07:37:33.689989Z"
    }
   },
   "outputs": [],
   "source": [
    "df.isnull().sum()"
   ]
  },
  {
   "cell_type": "code",
   "execution_count": null,
   "metadata": {
    "execution": {
     "iopub.execute_input": "2024-12-04T07:37:36.586267Z",
     "iopub.status.busy": "2024-12-04T07:37:36.585955Z",
     "iopub.status.idle": "2024-12-04T07:37:36.591755Z",
     "shell.execute_reply": "2024-12-04T07:37:36.590909Z",
     "shell.execute_reply.started": "2024-12-04T07:37:36.586243Z"
    }
   },
   "outputs": [],
   "source": [
    "df.shape"
   ]
  },
  {
   "cell_type": "markdown",
   "metadata": {},
   "source": [
    "Nothing is yet removed from dataset"
   ]
  },
  {
   "cell_type": "code",
   "execution_count": null,
   "metadata": {
    "execution": {
     "iopub.execute_input": "2024-12-04T07:38:08.174172Z",
     "iopub.status.busy": "2024-12-04T07:38:08.173525Z",
     "iopub.status.idle": "2024-12-04T07:38:08.179914Z",
     "shell.execute_reply": "2024-12-04T07:38:08.179076Z",
     "shell.execute_reply.started": "2024-12-04T07:38:08.174140Z"
    }
   },
   "outputs": [],
   "source": [
    "df['size'].unique()"
   ]
  },
  {
   "cell_type": "code",
   "execution_count": null,
   "metadata": {
    "execution": {
     "iopub.execute_input": "2024-12-04T07:38:09.973828Z",
     "iopub.status.busy": "2024-12-04T07:38:09.973542Z",
     "iopub.status.idle": "2024-12-04T07:38:09.992796Z",
     "shell.execute_reply": "2024-12-04T07:38:09.992000Z",
     "shell.execute_reply.started": "2024-12-04T07:38:09.973806Z"
    }
   },
   "outputs": [],
   "source": [
    "df['bhk'] = df['size'].str.split(' ', expand=True)[0]\n",
    "df['bhk'] = df['bhk'].astype(float)"
   ]
  },
  {
   "cell_type": "code",
   "execution_count": null,
   "metadata": {
    "execution": {
     "iopub.execute_input": "2024-12-04T07:38:13.470525Z",
     "iopub.status.busy": "2024-12-04T07:38:13.469914Z",
     "iopub.status.idle": "2024-12-04T07:38:13.482096Z",
     "shell.execute_reply": "2024-12-04T07:38:13.481222Z",
     "shell.execute_reply.started": "2024-12-04T07:38:13.470498Z"
    }
   },
   "outputs": [],
   "source": [
    "df.head()"
   ]
  },
  {
   "cell_type": "markdown",
   "metadata": {},
   "source": [
    "Now that becase bhk is exracted frin size, we can even remove this feature from dataset"
   ]
  },
  {
   "cell_type": "code",
   "execution_count": null,
   "metadata": {
    "execution": {
     "iopub.execute_input": "2024-12-04T07:38:23.482384Z",
     "iopub.status.busy": "2024-12-04T07:38:23.482065Z",
     "iopub.status.idle": "2024-12-04T07:38:23.493612Z",
     "shell.execute_reply": "2024-12-04T07:38:23.492678Z",
     "shell.execute_reply.started": "2024-12-04T07:38:23.482359Z"
    }
   },
   "outputs": [],
   "source": [
    "df = df.drop(columns='size')"
   ]
  },
  {
   "cell_type": "code",
   "execution_count": null,
   "metadata": {
    "execution": {
     "iopub.execute_input": "2024-12-04T07:38:26.982340Z",
     "iopub.status.busy": "2024-12-04T07:38:26.981608Z",
     "iopub.status.idle": "2024-12-04T07:38:26.993711Z",
     "shell.execute_reply": "2024-12-04T07:38:26.992923Z",
     "shell.execute_reply.started": "2024-12-04T07:38:26.982309Z"
    }
   },
   "outputs": [],
   "source": [
    "df.head()"
   ]
  },
  {
   "cell_type": "code",
   "execution_count": null,
   "metadata": {
    "execution": {
     "iopub.execute_input": "2024-12-04T07:38:29.934058Z",
     "iopub.status.busy": "2024-12-04T07:38:29.933418Z",
     "iopub.status.idle": "2024-12-04T07:38:29.939607Z",
     "shell.execute_reply": "2024-12-04T07:38:29.938757Z",
     "shell.execute_reply.started": "2024-12-04T07:38:29.934030Z"
    }
   },
   "outputs": [],
   "source": [
    "df['bhk'].unique()"
   ]
  },
  {
   "cell_type": "markdown",
   "metadata": {},
   "source": [
    "It is time to change `bhk` feature datatype from object to float"
   ]
  },
  {
   "cell_type": "code",
   "execution_count": null,
   "metadata": {
    "execution": {
     "iopub.execute_input": "2024-12-04T07:38:37.089177Z",
     "iopub.status.busy": "2024-12-04T07:38:37.088750Z",
     "iopub.status.idle": "2024-12-04T07:38:37.100028Z",
     "shell.execute_reply": "2024-12-04T07:38:37.098932Z",
     "shell.execute_reply.started": "2024-12-04T07:38:37.089142Z"
    }
   },
   "outputs": [],
   "source": [
    "df['bhk'].astype(float)"
   ]
  },
  {
   "cell_type": "markdown",
   "metadata": {},
   "source": [
    "We have to create new dataset that don't take into consideration entries where bhk in null"
   ]
  },
  {
   "cell_type": "code",
   "execution_count": null,
   "metadata": {
    "execution": {
     "iopub.execute_input": "2024-12-04T07:38:43.205941Z",
     "iopub.status.busy": "2024-12-04T07:38:43.205613Z",
     "iopub.status.idle": "2024-12-04T07:38:43.213139Z",
     "shell.execute_reply": "2024-12-04T07:38:43.212139Z",
     "shell.execute_reply.started": "2024-12-04T07:38:43.205915Z"
    }
   },
   "outputs": [],
   "source": [
    "df_bhk = df[~df['bhk'].isnull()]"
   ]
  },
  {
   "cell_type": "code",
   "execution_count": null,
   "metadata": {
    "execution": {
     "iopub.execute_input": "2024-12-04T07:38:45.003838Z",
     "iopub.status.busy": "2024-12-04T07:38:45.003158Z",
     "iopub.status.idle": "2024-12-04T07:38:45.016200Z",
     "shell.execute_reply": "2024-12-04T07:38:45.015389Z",
     "shell.execute_reply.started": "2024-12-04T07:38:45.003810Z"
    }
   },
   "outputs": [],
   "source": [
    "df_bhk.head()"
   ]
  },
  {
   "cell_type": "code",
   "execution_count": null,
   "metadata": {
    "execution": {
     "iopub.execute_input": "2024-12-04T07:38:46.039616Z",
     "iopub.status.busy": "2024-12-04T07:38:46.039304Z",
     "iopub.status.idle": "2024-12-04T07:38:46.050222Z",
     "shell.execute_reply": "2024-12-04T07:38:46.049341Z",
     "shell.execute_reply.started": "2024-12-04T07:38:46.039591Z"
    }
   },
   "outputs": [],
   "source": [
    "df_bhk.isnull().sum()"
   ]
  },
  {
   "cell_type": "markdown",
   "metadata": {},
   "source": [
    "Let me change the total_sqft data type to float"
   ]
  },
  {
   "cell_type": "code",
   "execution_count": null,
   "metadata": {
    "execution": {
     "iopub.execute_input": "2024-12-04T07:38:53.320445Z",
     "iopub.status.busy": "2024-12-04T07:38:53.319676Z",
     "iopub.status.idle": "2024-12-04T07:38:53.335346Z",
     "shell.execute_reply": "2024-12-04T07:38:53.334535Z",
     "shell.execute_reply.started": "2024-12-04T07:38:53.320411Z"
    }
   },
   "outputs": [],
   "source": [
    "df_bhk[df_bhk['total_sqft'].apply(lambda x: '-' in x )].head()"
   ]
  },
  {
   "cell_type": "markdown",
   "metadata": {},
   "source": [
    "Now let's create new `total_sqft` feature\n",
    "But before I create new field, I've found that there are incorrect rows with strange`total_sqft` values labelled such as *34.46Sq. Meter, 4125Perch*. <span style=\"font-size: 1.5rem\">This is strange 😅</span>\n",
    "\n",
    "Let's check its index and drop it"
   ]
  },
  {
   "cell_type": "code",
   "execution_count": null,
   "metadata": {
    "execution": {
     "iopub.execute_input": "2024-12-04T07:39:11.964561Z",
     "iopub.status.busy": "2024-12-04T07:39:11.963731Z",
     "iopub.status.idle": "2024-12-04T07:39:11.969143Z",
     "shell.execute_reply": "2024-12-04T07:39:11.968068Z",
     "shell.execute_reply.started": "2024-12-04T07:39:11.964531Z"
    }
   },
   "outputs": [],
   "source": [
    "# We will first need to change data type from string to float values\n",
    "def convert_to_float (num):\n",
    "    tokenized = num.split('-')\n",
    "    if len(tokenized) == 2:\n",
    "        return (float(tokenized[0]) + float(tokenized[1])) / 2\n",
    "    try:\n",
    "        return float(num)\n",
    "    except Exception as e:\n",
    "        return None"
   ]
  },
  {
   "cell_type": "code",
   "execution_count": null,
   "metadata": {
    "execution": {
     "iopub.execute_input": "2024-12-04T07:39:13.058199Z",
     "iopub.status.busy": "2024-12-04T07:39:13.057442Z",
     "iopub.status.idle": "2024-12-04T07:39:13.068394Z",
     "shell.execute_reply": "2024-12-04T07:39:13.067601Z",
     "shell.execute_reply.started": "2024-12-04T07:39:13.058161Z"
    }
   },
   "outputs": [],
   "source": [
    "df_bhk['total_sqft'] = df_bhk['total_sqft'].apply(convert_to_float)"
   ]
  },
  {
   "cell_type": "markdown",
   "metadata": {},
   "source": [
    "Let's check for `30` index which was initially has dirty `total_sqft` values"
   ]
  },
  {
   "cell_type": "code",
   "execution_count": null,
   "metadata": {
    "execution": {
     "iopub.execute_input": "2024-12-04T07:39:18.118161Z",
     "iopub.status.busy": "2024-12-04T07:39:18.117520Z",
     "iopub.status.idle": "2024-12-04T07:39:18.124385Z",
     "shell.execute_reply": "2024-12-04T07:39:18.123549Z",
     "shell.execute_reply.started": "2024-12-04T07:39:18.118133Z"
    }
   },
   "outputs": [],
   "source": [
    "df_bhk.iloc[30]"
   ]
  },
  {
   "cell_type": "markdown",
   "metadata": {},
   "source": [
    "As of above, you can see that `total_sqft` is now **2475.0**"
   ]
  },
  {
   "cell_type": "markdown",
   "metadata": {},
   "source": [
    "<p style=\"font-size: 1.5rem; line-height: 1; font-style: italic; text-align: justify\">When buying new house there is many features that is considered such as its <span style=\"color: green\">location, dimension(square feet), number of rooms, architecture, bathrooms, etc.</span></p>\n",
    "\n",
    "<p>Now we are going to look for those features against house price to check if there is a relationship.</p>"
   ]
  },
  {
   "cell_type": "markdown",
   "metadata": {},
   "source": [
    "# Location vs Price"
   ]
  },
  {
   "cell_type": "code",
   "execution_count": null,
   "metadata": {
    "execution": {
     "iopub.execute_input": "2024-12-04T08:03:02.795407Z",
     "iopub.status.busy": "2024-12-04T08:03:02.794833Z",
     "iopub.status.idle": "2024-12-04T08:03:02.800810Z",
     "shell.execute_reply": "2024-12-04T08:03:02.799920Z",
     "shell.execute_reply.started": "2024-12-04T08:03:02.795380Z"
    }
   },
   "outputs": [],
   "source": [
    "df_loc =df_bhk.copy()"
   ]
  },
  {
   "cell_type": "code",
   "execution_count": null,
   "metadata": {
    "execution": {
     "iopub.execute_input": "2024-12-04T08:03:03.015426Z",
     "iopub.status.busy": "2024-12-04T08:03:03.014626Z",
     "iopub.status.idle": "2024-12-04T08:03:03.026656Z",
     "shell.execute_reply": "2024-12-04T08:03:03.025922Z",
     "shell.execute_reply.started": "2024-12-04T08:03:03.015400Z"
    }
   },
   "outputs": [],
   "source": [
    "df_loc.head()"
   ]
  },
  {
   "cell_type": "code",
   "execution_count": null,
   "metadata": {
    "execution": {
     "iopub.execute_input": "2024-12-04T08:03:21.176823Z",
     "iopub.status.busy": "2024-12-04T08:03:21.176046Z",
     "iopub.status.idle": "2024-12-04T08:03:21.187708Z",
     "shell.execute_reply": "2024-12-04T08:03:21.186797Z",
     "shell.execute_reply.started": "2024-12-04T08:03:21.176783Z"
    }
   },
   "outputs": [],
   "source": [
    " df_loc['location'].value_counts()"
   ]
  },
  {
   "cell_type": "markdown",
   "metadata": {},
   "source": [
    "<p style=\"font-size: 1.5rem\"> It seems like location can cause high cardinality issues. It is time to check for under represented location and group them</p>"
   ]
  },
  {
   "cell_type": "code",
   "execution_count": null,
   "metadata": {
    "execution": {
     "iopub.execute_input": "2024-12-04T08:04:22.915071Z",
     "iopub.status.busy": "2024-12-04T08:04:22.914364Z",
     "iopub.status.idle": "2024-12-04T08:04:22.923813Z",
     "shell.execute_reply": "2024-12-04T08:04:22.923046Z",
     "shell.execute_reply.started": "2024-12-04T08:04:22.915040Z"
    }
   },
   "outputs": [],
   "source": [
    "less_than_10 = df_loc['location'].value_counts() < 10\n",
    "less_than_10 = less_than_10[less_than_10 ]\n",
    "less_than_10"
   ]
  },
  {
   "cell_type": "code",
   "execution_count": null,
   "metadata": {
    "execution": {
     "iopub.execute_input": "2024-12-04T08:04:52.312844Z",
     "iopub.status.busy": "2024-12-04T08:04:52.312316Z",
     "iopub.status.idle": "2024-12-04T08:04:52.337645Z",
     "shell.execute_reply": "2024-12-04T08:04:52.336734Z",
     "shell.execute_reply.started": "2024-12-04T08:04:52.312816Z"
    }
   },
   "outputs": [],
   "source": [
    "df_loc['location'] = df_loc['location'].apply(lambda x: 'Other' if x in less_than_10 else x )\n",
    "df_loc['location'].nunique()"
   ]
  },
  {
   "cell_type": "markdown",
   "metadata": {
    "execution": {
     "iopub.execute_input": "2024-12-04T08:04:36.858047Z",
     "iopub.status.busy": "2024-12-04T08:04:36.857510Z",
     "iopub.status.idle": "2024-12-04T08:04:36.863912Z",
     "shell.execute_reply": "2024-12-04T08:04:36.863035Z",
     "shell.execute_reply.started": "2024-12-04T08:04:36.858016Z"
    }
   },
   "source": [
    "Now location has been reduced to **254** values"
   ]
  },
  {
   "cell_type": "code",
   "execution_count": null,
   "metadata": {
    "execution": {
     "iopub.execute_input": "2024-12-04T08:34:44.715113Z",
     "iopub.status.busy": "2024-12-04T08:34:44.714518Z",
     "iopub.status.idle": "2024-12-04T08:34:45.337735Z",
     "shell.execute_reply": "2024-12-04T08:34:45.336848Z",
     "shell.execute_reply.started": "2024-12-04T08:34:44.715087Z"
    }
   },
   "outputs": [],
   "source": [
    "price_mean = df_loc['price'].mean()\n",
    "plt.figure(figsize=(10, 6))\n",
    "sns.scatterplot(x='location', y='price', data=df_loc, alpha=.5)\n",
    "plt.axhline(price_mean, color='red', linestyle='--', label=f'Price Mean (y = {price_mean:.2f})')\n",
    "plt.ylabel('House Price')\n",
    "plt.xlabel('House Location')\n",
    "plt.xticks([])\n",
    "plt.legend();"
   ]
  },
  {
   "cell_type": "markdown",
   "metadata": {},
   "source": [
    "<p style=\"font-size: 1rem\">Most of location, houses price is less than <b>1000.</b> What does this tell us?? There should be potential outliers.</p>\n",
    "<br/>\n",
    "<p style=\"font-size: 1rem\">Another takeway is that mean is about 112. It seems that those outliers are skewing our data.</p>\n",
    "Maybe we can exclude house with price that is above 1000. But first let me see statistical information\n"
   ]
  },
  {
   "cell_type": "code",
   "execution_count": null,
   "metadata": {
    "execution": {
     "iopub.execute_input": "2024-12-04T08:38:20.904193Z",
     "iopub.status.busy": "2024-12-04T08:38:20.903815Z",
     "iopub.status.idle": "2024-12-04T08:38:20.915342Z",
     "shell.execute_reply": "2024-12-04T08:38:20.914406Z",
     "shell.execute_reply.started": "2024-12-04T08:38:20.904168Z"
    }
   },
   "outputs": [],
   "source": [
    "df_loc['price'].describe()"
   ]
  },
  {
   "cell_type": "markdown",
   "metadata": {},
   "source": [
    "<p style=\"font-size: 1.3rem\">It is likely to take off some data values. But wait 🤔 we can not treat data values as outliers based on price only. The best measure is to look on price per square feet. Price singly, can not give us useful information.</p>"
   ]
  },
  {
   "cell_type": "markdown",
   "metadata": {},
   "source": [
    "# Price vs Square Feet"
   ]
  },
  {
   "cell_type": "code",
   "execution_count": null,
   "metadata": {
    "execution": {
     "iopub.execute_input": "2024-12-04T08:54:54.216838Z",
     "iopub.status.busy": "2024-12-04T08:54:54.216525Z",
     "iopub.status.idle": "2024-12-04T08:54:54.231136Z",
     "shell.execute_reply": "2024-12-04T08:54:54.230397Z",
     "shell.execute_reply.started": "2024-12-04T08:54:54.216811Z"
    }
   },
   "outputs": [],
   "source": [
    "df_loc['price_per_sqft']  = round(df_loc['price']*100_000/df_loc['total_sqft'], 2)\n",
    "df_loc.head()"
   ]
  },
  {
   "cell_type": "markdown",
   "metadata": {},
   "source": [
    "Let's use price per square feets to check how price is spread accross the dataset"
   ]
  },
  {
   "cell_type": "code",
   "execution_count": null,
   "metadata": {
    "execution": {
     "iopub.execute_input": "2024-12-04T09:30:46.003044Z",
     "iopub.status.busy": "2024-12-04T09:30:46.002276Z",
     "iopub.status.idle": "2024-12-04T09:30:46.007366Z",
     "shell.execute_reply": "2024-12-04T09:30:46.006593Z",
     "shell.execute_reply.started": "2024-12-04T09:30:46.003014Z"
    }
   },
   "outputs": [],
   "source": [
    "# Function that formats y axis to use M for millions and K for thousands\n",
    "def ticker_values_formatter(value, ticker_num):\n",
    "    if value >= 1e6:\n",
    "        return f'{int(value/1e6)}M'\n",
    "    elif value >=1e3:\n",
    "        return f'{int(value/1e3)}K'\n",
    "    else:\n",
    "        return f'{int(value)}'"
   ]
  },
  {
   "cell_type": "code",
   "execution_count": null,
   "metadata": {
    "execution": {
     "iopub.execute_input": "2024-12-04T09:30:18.442809Z",
     "iopub.status.busy": "2024-12-04T09:30:18.442040Z",
     "iopub.status.idle": "2024-12-04T09:30:19.475563Z",
     "shell.execute_reply": "2024-12-04T09:30:19.474474Z",
     "shell.execute_reply.started": "2024-12-04T09:30:18.442783Z"
    }
   },
   "outputs": [],
   "source": [
    "price_per_sqft_mean = df_loc['price_per_sqft'].mean()\n",
    "plt.figure(figsize=(10, 6))\n",
    "sns.scatterplot(x='location', y='price_per_sqft', data=df_loc, alpha=.5)\n",
    "plt.axhline(price_per_sqft_mean,\n",
    "            color='red', linestyle='--', \n",
    "            label=f'Price Mean (y = {price_per_sqft_mean:.2f})'\n",
    "           )\n",
    "plt.ylabel('House Price Per Square Feets')\n",
    "plt.xlabel('House Location')\n",
    "plt.xticks([])\n",
    "plt.gca().yaxis.set_major_formatter(matplotlib.ticker.FuncFormatter(ticker_values_formatter))\n",
    "plt.gca().yaxis.set_major_locator(matplotlib.ticker.MultipleLocator(1e6))\n",
    "plt.legend();"
   ]
  },
  {
   "cell_type": "markdown",
   "metadata": {},
   "source": [
    "<div>\n",
    "    <p style=\"font-size: 1.3rem\">From above you can see it is like all values fall to <span style=\"color: green\">0</span> million while <span style=\"color: green\">mean</span> is about <span style=\"color: green\">7,912</span> 😱</p>\n",
    "\n",
    "<p style=\"font-size: 1.3rem;\">We can see one of data point that is about 12 Millions and one above 2 Millions</p>\n",
    "</div>"
   ]
  },
  {
   "cell_type": "markdown",
   "metadata": {},
   "source": [
    "# REMOVING OUTLIERS"
   ]
  },
  {
   "cell_type": "code",
   "execution_count": null,
   "metadata": {
    "execution": {
     "iopub.execute_input": "2024-12-04T09:22:45.549367Z",
     "iopub.status.busy": "2024-12-04T09:22:45.548722Z",
     "iopub.status.idle": "2024-12-04T09:22:45.555281Z",
     "shell.execute_reply": "2024-12-04T09:22:45.554269Z",
     "shell.execute_reply.started": "2024-12-04T09:22:45.549337Z"
    }
   },
   "outputs": [],
   "source": [
    "df_no_extreme = df_loc.copy()"
   ]
  },
  {
   "cell_type": "code",
   "execution_count": null,
   "metadata": {
    "execution": {
     "iopub.execute_input": "2024-12-04T09:22:48.363195Z",
     "iopub.status.busy": "2024-12-04T09:22:48.362781Z",
     "iopub.status.idle": "2024-12-04T09:22:48.369787Z",
     "shell.execute_reply": "2024-12-04T09:22:48.368769Z",
     "shell.execute_reply.started": "2024-12-04T09:22:48.363154Z"
    }
   },
   "outputs": [],
   "source": [
    "df_no_extreme.shape"
   ]
  },
  {
   "cell_type": "code",
   "execution_count": null,
   "metadata": {
    "execution": {
     "iopub.execute_input": "2024-12-04T09:28:12.904578Z",
     "iopub.status.busy": "2024-12-04T09:28:12.904292Z",
     "iopub.status.idle": "2024-12-04T09:28:12.911965Z",
     "shell.execute_reply": "2024-12-04T09:28:12.911143Z",
     "shell.execute_reply.started": "2024-12-04T09:28:12.904556Z"
    }
   },
   "outputs": [],
   "source": [
    "df_cleaned_1 = df_no_extreme[df_no_extreme['price_per_sqft'] < 100_000]\n",
    "df_cleaned_1.shape"
   ]
  },
  {
   "cell_type": "code",
   "execution_count": null,
   "metadata": {
    "execution": {
     "iopub.execute_input": "2024-12-04T13:34:12.650400Z",
     "iopub.status.busy": "2024-12-04T13:34:12.649708Z",
     "iopub.status.idle": "2024-12-04T13:34:13.388082Z",
     "shell.execute_reply": "2024-12-04T13:34:13.387237Z",
     "shell.execute_reply.started": "2024-12-04T13:34:12.650370Z"
    }
   },
   "outputs": [],
   "source": [
    "price_per_sqft_mean = df_cleaned_1['price_per_sqft'].mean()\n",
    "plt.figure(figsize=(10, 6))\n",
    "sns.scatterplot(x='location', y='price_per_sqft', data=df_cleaned_1, alpha=.5)\n",
    "plt.axhline(price_per_sqft_mean,\n",
    "            color='red', linestyle='--', \n",
    "            label=f'Price Mean (y = {price_per_sqft_mean:.2f})'\n",
    "           )\n",
    "plt.ylabel('House Price Per Square Feets')\n",
    "plt.xlabel('House Location')\n",
    "plt.xticks([])\n",
    "plt.gca().yaxis.set_major_formatter(matplotlib.ticker.FuncFormatter(ticker_values_formatter))\n",
    "plt.gca().yaxis.set_major_locator(matplotlib.ticker.MultipleLocator(100_000))\n",
    "plt.legend();"
   ]
  },
  {
   "cell_type": "markdown",
   "metadata": {},
   "source": [
    "I'm gonna remove values that fall bellow 1% and 99% percentiles"
   ]
  },
  {
   "cell_type": "code",
   "execution_count": null,
   "metadata": {},
   "outputs": [],
   "source": [
    "perc_99 = df_cleaned_1['price_per_sqft'] < np.percentile(df_cleaned_1['price_per_sqft'], 90)\n",
    "perc_10 = df_cleaned_1['price_per_sqft'] > np.percentile(df_cleaned_1['price_per_sqft'], 10)"
   ]
  },
  {
   "cell_type": "code",
   "execution_count": null,
   "metadata": {},
   "outputs": [],
   "source": [
    "df_cleaned_2 = df_cleaned_1[perc_10 & perc_99]"
   ]
  },
  {
   "cell_type": "code",
   "execution_count": null,
   "metadata": {},
   "outputs": [],
   "source": [
    "df_cleaned_2.shape"
   ]
  },
  {
   "cell_type": "code",
   "execution_count": null,
   "metadata": {},
   "outputs": [],
   "source": [
    "plt.hist(df_cleaned_2['price_per_sqft'])"
   ]
  },
  {
   "cell_type": "markdown",
   "metadata": {},
   "source": [
    "<p style=\"font-size: 2rem\">We can even go deeper to what effect <span style=\"font-style: italic\">bhk</span> can have to price of the house. However, I am going straing to encoding categorical features that I'll be using for model training</p>"
   ]
  },
  {
   "cell_type": "markdown",
   "metadata": {},
   "source": [
    "# 4 | Building and Training a Model\n",
    "\n",
    "\n",
    "\n",
    "\n",
    "\n",
    "\n"
   ]
  },
  {
   "cell_type": "markdown",
   "metadata": {},
   "source": [
    "It's time to encode categorical features because machine learning algorithms don't cope with texts"
   ]
  },
  {
   "cell_type": "code",
   "execution_count": null,
   "metadata": {},
   "outputs": [],
   "source": [
    "categorical_feat = df_cleaned_2.select_dtypes(\"object\").drop(['society', 'area_type', 'availability'], axis='columns').columns.to_list()\n",
    "categorical_feat"
   ]
  },
  {
   "cell_type": "code",
   "execution_count": null,
   "metadata": {
    "execution": {
     "iopub.execute_input": "2024-04-10T15:21:14.81359Z",
     "iopub.status.busy": "2024-04-10T15:21:14.813336Z",
     "iopub.status.idle": "2024-04-10T15:21:14.839583Z",
     "shell.execute_reply": "2024-04-10T15:21:14.838698Z",
     "shell.execute_reply.started": "2024-04-10T15:21:14.813569Z"
    }
   },
   "outputs": [],
   "source": [
    "dumies = pd.get_dummies(df_cleaned_2[categorical_feat])\n",
    "dumies.head(3)"
   ]
  },
  {
   "cell_type": "code",
   "execution_count": null,
   "metadata": {
    "execution": {
     "iopub.execute_input": "2024-04-10T15:21:14.840818Z",
     "iopub.status.busy": "2024-04-10T15:21:14.840567Z",
     "iopub.status.idle": "2024-04-10T15:21:14.866688Z",
     "shell.execute_reply": "2024-04-10T15:21:14.865835Z",
     "shell.execute_reply.started": "2024-04-10T15:21:14.840796Z"
    }
   },
   "outputs": [],
   "source": [
    "df_cleaned_3 = (\n",
    "    pd.concat(\n",
    "        [\n",
    "            df_cleaned_2.drop(columns=['society', 'area_type', 'availability']),\n",
    "            dumies.drop('location_Other',axis = 'columns')\n",
    "        ],\n",
    "        axis='columns')\n",
    ")\n",
    "df_cleaned_3.head()"
   ]
  },
  {
   "cell_type": "markdown",
   "metadata": {},
   "source": [
    "Next, we are going to drop `categorical features` that we already have their encoded values for model training"
   ]
  },
  {
   "cell_type": "code",
   "execution_count": null,
   "metadata": {
    "execution": {
     "iopub.execute_input": "2024-04-10T15:21:14.868591Z",
     "iopub.status.busy": "2024-04-10T15:21:14.867752Z",
     "iopub.status.idle": "2024-04-10T15:21:14.892904Z",
     "shell.execute_reply": "2024-04-10T15:21:14.892141Z",
     "shell.execute_reply.started": "2024-04-10T15:21:14.86856Z"
    }
   },
   "outputs": [],
   "source": [
    "df_ready = df_cleaned_3.drop(categorical_feat, axis='columns')\n",
    "df_ready.head()"
   ]
  },
  {
   "cell_type": "code",
   "execution_count": null,
   "metadata": {},
   "outputs": [],
   "source": [
    "df_ready.select_dtypes(include=[int, float]).corr()"
   ]
  },
  {
   "cell_type": "code",
   "execution_count": null,
   "metadata": {},
   "outputs": [],
   "source": [
    "fig, ax = plt.subplots(figsize=(10, 5))\n",
    "sns.heatmap(df_ready.select_dtypes(include=[int, float]).corr(), ax=ax);"
   ]
  },
  {
   "cell_type": "code",
   "execution_count": null,
   "metadata": {
    "execution": {
     "iopub.execute_input": "2024-04-10T15:21:14.900702Z",
     "iopub.status.busy": "2024-04-10T15:21:14.900447Z",
     "iopub.status.idle": "2024-04-10T15:21:14.92839Z",
     "shell.execute_reply": "2024-04-10T15:21:14.927531Z",
     "shell.execute_reply.started": "2024-04-10T15:21:14.90068Z"
    }
   },
   "outputs": [],
   "source": [
    "X = df_ready.drop('price', axis='columns')\n",
    "X.head()"
   ]
  },
  {
   "cell_type": "code",
   "execution_count": null,
   "metadata": {
    "execution": {
     "iopub.execute_input": "2024-04-10T15:21:14.930448Z",
     "iopub.status.busy": "2024-04-10T15:21:14.929536Z",
     "iopub.status.idle": "2024-04-10T15:21:14.937144Z",
     "shell.execute_reply": "2024-04-10T15:21:14.936211Z",
     "shell.execute_reply.started": "2024-04-10T15:21:14.930422Z"
    },
    "scrolled": true
   },
   "outputs": [],
   "source": [
    "y = df_ready['price']\n",
    "y.head()"
   ]
  },
  {
   "cell_type": "markdown",
   "metadata": {},
   "source": [
    "# Building baseline"
   ]
  },
  {
   "cell_type": "code",
   "execution_count": null,
   "metadata": {},
   "outputs": [],
   "source": [
    "y_mean = round(np.mean(y), 2)\n",
    "y_baseline = [y_mean] * len(y)"
   ]
  },
  {
   "cell_type": "code",
   "execution_count": null,
   "metadata": {},
   "outputs": [],
   "source": [
    "from sklearn.metrics import mean_absolute_error"
   ]
  },
  {
   "cell_type": "markdown",
   "metadata": {},
   "source": [
    "Now it is time to split dataset for training and testing datasets"
   ]
  },
  {
   "cell_type": "markdown",
   "metadata": {},
   "source": [
    "# Train Test Split"
   ]
  },
  {
   "cell_type": "code",
   "execution_count": null,
   "metadata": {
    "execution": {
     "iopub.execute_input": "2024-04-10T15:21:14.938734Z",
     "iopub.status.busy": "2024-04-10T15:21:14.938401Z",
     "iopub.status.idle": "2024-04-10T15:21:15.094241Z",
     "shell.execute_reply": "2024-04-10T15:21:15.0935Z",
     "shell.execute_reply.started": "2024-04-10T15:21:14.938703Z"
    }
   },
   "outputs": [],
   "source": [
    "from sklearn.model_selection import train_test_split\n",
    "X_train, X_test, y_train, y_test = train_test_split(X,y, test_size=0.2, random_state=10)"
   ]
  },
  {
   "cell_type": "code",
   "execution_count": null,
   "metadata": {},
   "outputs": [],
   "source": [
    "mean_absolute_error(y, y_baseline)"
   ]
  },
  {
   "cell_type": "markdown",
   "metadata": {},
   "source": [
    "# Fitting Linear Regression Model"
   ]
  },
  {
   "cell_type": "markdown",
   "metadata": {},
   "source": [
    "Now we have to fit the model on algorithm"
   ]
  },
  {
   "cell_type": "code",
   "execution_count": null,
   "metadata": {
    "execution": {
     "iopub.execute_input": "2024-04-10T15:21:15.095861Z",
     "iopub.status.busy": "2024-04-10T15:21:15.095422Z",
     "iopub.status.idle": "2024-04-10T15:21:15.379885Z",
     "shell.execute_reply": "2024-04-10T15:21:15.378608Z",
     "shell.execute_reply.started": "2024-04-10T15:21:15.095834Z"
    }
   },
   "outputs": [],
   "source": [
    "from sklearn.linear_model import LinearRegression\n",
    "reg_model=  LinearRegression()\n",
    "#fitting the model\n",
    "reg_model.fit(X_train, y_train)"
   ]
  },
  {
   "cell_type": "code",
   "execution_count": null,
   "metadata": {},
   "outputs": [],
   "source": [
    "#Check check score on training data set\n",
    "train_y_pred_score = round(reg_model.score(X_train, y_train), 2)\n",
    "train_y_pred_score"
   ]
  },
  {
   "cell_type": "code",
   "execution_count": null,
   "metadata": {},
   "outputs": [],
   "source": [
    "#Check check score on training data set\n",
    "test_y_pred_score = round(reg_model.score(X_test, y_test), 2)\n",
    "test_y_pred_score"
   ]
  },
  {
   "cell_type": "code",
   "execution_count": null,
   "metadata": {
    "scrolled": true
   },
   "outputs": [],
   "source": [
    "reg_model.intercept_"
   ]
  },
  {
   "cell_type": "code",
   "execution_count": null,
   "metadata": {},
   "outputs": [],
   "source": [
    "reg_model.coef_[:5]"
   ]
  },
  {
   "cell_type": "code",
   "execution_count": null,
   "metadata": {},
   "outputs": [],
   "source": [
    "y_pred = pd.Series(reg_model.predict(X_train)).apply(lambda x: round(x, 2))"
   ]
  },
  {
   "cell_type": "code",
   "execution_count": null,
   "metadata": {},
   "outputs": [],
   "source": [
    "print(pd.Series(y_pred[:5]))\n",
    "pd.Series(y_train[:5])"
   ]
  },
  {
   "cell_type": "markdown",
   "metadata": {},
   "source": [
    "<p style=\"font-size: 2rem\">👆👆 If we check prediction vs real values it seems like model is building really good . </p>"
   ]
  },
  {
   "cell_type": "code",
   "execution_count": null,
   "metadata": {},
   "outputs": [],
   "source": [
    "round(mean_absolute_error(y_pred, y_train), 2)"
   ]
  },
  {
   "cell_type": "markdown",
   "metadata": {},
   "source": [
    "<p style=\"font-size: 2rem\">We are beating initial baseline which was around (45). Now it around 8 💪. </p>\n",
    "<p style=\"font-size: 2rem\">You can check the same on test dataset 💪. </p>\n",
    "Let's visualize model residuals from prediction"
   ]
  },
  {
   "cell_type": "code",
   "execution_count": null,
   "metadata": {},
   "outputs": [],
   "source": [
    "residuals = y_pred - y_train\n",
    "fig, ax= plt.subplots(figsize=(10, 5))\n",
    "sns.histplot(residuals, kde=True, bins=30, ax=ax)\n",
    "plt.title(\"Model Prediction Residuals distribution\");"
   ]
  },
  {
   "cell_type": "code",
   "execution_count": null,
   "metadata": {},
   "outputs": [],
   "source": [
    "# For linear regression coefficients\n",
    "coefficients = pd.Series(reg_model.coef_)\n",
    "coefficients.sort_values().plot(kind='barh', figsize=(8, 6))\n",
    "plt.title('Feature Importance')\n",
    "plt.yticks([])\n",
    "plt.show()"
   ]
  },
  {
   "cell_type": "markdown",
   "metadata": {},
   "source": [
    "<p style=\"font-size: 1.5rem\">Let's use cross validation to check model performance. But later on, I will use Grid search validation which allows to test more than one machine learning model at time</p>"
   ]
  },
  {
   "cell_type": "code",
   "execution_count": null,
   "metadata": {},
   "outputs": [],
   "source": [
    "from sklearn.model_selection import KFold\n",
    "from sklearn.model_selection import ShuffleSplit\n",
    "from sklearn.model_selection import cross_val_score"
   ]
  },
  {
   "cell_type": "code",
   "execution_count": null,
   "metadata": {},
   "outputs": [],
   "source": [
    "cv_1 = KFold(n_splits=5, shuffle=False, random_state=None)\n",
    "cv_2 = KFold(n_splits=5, shuffle=True, random_state=42)\n",
    "print(f'Without shuffling: {cross_val_score(LinearRegression(), X, y, cv=cv_1)}')\n",
    "print(f'With shuffling: {cross_val_score(LinearRegression(), X, y, cv=cv_2)}')"
   ]
  },
  {
   "cell_type": "code",
   "execution_count": null,
   "metadata": {},
   "outputs": [],
   "source": [
    "#Using ShuffleSplit method\n",
    "cv_s = ShuffleSplit(n_splits=5, test_size=0.2, random_state=42)\n",
    "cross_val_score(LinearRegression(), X, y, cv=cv_s)"
   ]
  },
  {
   "cell_type": "markdown",
   "metadata": {},
   "source": [
    "# 5 | Model Evaluation"
   ]
  },
  {
   "cell_type": "markdown",
   "metadata": {},
   "source": [
    "As `owner` of the notebook I copied, I am going to use Grid Search technique to evaluate model on different machine learning algorithms to check which performs better.\n",
    "\n",
    "I am going to test **Ridge, Lasso, LinearRegression, and DecisionTreeRegressor.**"
   ]
  },
  {
   "cell_type": "code",
   "execution_count": null,
   "metadata": {
    "execution": {
     "iopub.execute_input": "2024-04-10T15:21:16.507705Z",
     "iopub.status.busy": "2024-04-10T15:21:16.506022Z",
     "iopub.status.idle": "2024-04-10T15:21:24.074768Z",
     "shell.execute_reply": "2024-04-10T15:21:24.073735Z",
     "shell.execute_reply.started": "2024-04-10T15:21:16.507671Z"
    }
   },
   "outputs": [],
   "source": [
    "from sklearn.model_selection import GridSearchCV\n",
    "from sklearn.linear_model import Lasso, Ridge, LinearRegression\n",
    "from sklearn.tree import DecisionTreeRegressor\n",
    "\n",
    "def grid_search_func(X,y):\n",
    "    \"\"\"\n",
    "    Function: grid_search_func\n",
    "    This function utilize GridSearchCV to use different machine learning algorithms to check algorithm which works better.\n",
    "    Parameters:\n",
    "        X: Predictors\n",
    "        y: target variable (to be predicted)\n",
    "    Return:\n",
    "        Function return data frame with three columns/feaures which are 'model', best_score, best_params'\n",
    "    \"\"\"\n",
    "    alg_config = {\n",
    "        'LinearRegression' : {\n",
    "            'model' : LinearRegression(),\n",
    "            'params' : {\n",
    "            }\n",
    "        },\n",
    "        'Ridge': {\n",
    "            'model': Ridge(),\n",
    "            'params':{\n",
    "                'alpha': [1, 2]\n",
    "            }\n",
    "        },\n",
    "        'Lasso' : {\n",
    "            'model' : Lasso(),\n",
    "            'params' : {\n",
    "                'alpha' : [1,2],\n",
    "                'selection' : ['random', 'cyclic']\n",
    "            }\n",
    "        },\n",
    "        'decision_tree' : {\n",
    "            'model' : DecisionTreeRegressor(),\n",
    "            'params' : {\n",
    "                'criterion' : ['squared_error', 'friedman_mse'],\n",
    "                'splitter' : ['best', 'random']\n",
    "            }\n",
    "        }\n",
    "    }\n",
    "\n",
    "    scores = []\n",
    "    cv = ShuffleSplit(n_splits=5, test_size=0.2, random_state=0)\n",
    "\n",
    "    for model, config in alg_config.items():\n",
    "        grid_search = GridSearchCV(config['model'], config['params'], cv=cv, return_train_score=False)\n",
    "        print(grid_search)\n",
    "        grid_search.fit(X,y)\n",
    "        print('finished fitting the moel')\n",
    "        scores.append({\n",
    "            'model': model,\n",
    "            'best_score': grid_search.best_score_,\n",
    "            'best_params': grid_search.best_params_\n",
    "        })\n",
    "    return pd.DataFrame(scores, columns=['model', 'best_score', 'best_params'])"
   ]
  },
  {
   "cell_type": "code",
   "execution_count": null,
   "metadata": {},
   "outputs": [],
   "source": [
    "#Testing function\n",
    "model_perfomance = grid_search_func(X, y)\n",
    "model_perfomance"
   ]
  },
  {
   "cell_type": "code",
   "execution_count": null,
   "metadata": {},
   "outputs": [],
   "source": [
    "model_perfomance"
   ]
  },
  {
   "cell_type": "markdown",
   "metadata": {},
   "source": [
    "# 5| COMMUNICATION"
   ]
  },
  {
   "cell_type": "code",
   "execution_count": null,
   "metadata": {},
   "outputs": [],
   "source": [
    "from ipywidgets import widgets"
   ]
  },
  {
   "cell_type": "markdown",
   "metadata": {},
   "source": [
    "Building functin that can recieve location, square feets, bath and bhk (bedrooms, hall, kitchen) and return prediction"
   ]
  },
  {
   "cell_type": "code",
   "execution_count": 399,
   "metadata": {
    "execution": {
     "iopub.execute_input": "2024-04-10T15:21:24.076338Z",
     "iopub.status.busy": "2024-04-10T15:21:24.076017Z",
     "iopub.status.idle": "2024-04-10T15:21:24.081885Z",
     "shell.execute_reply": "2024-04-10T15:21:24.081028Z",
     "shell.execute_reply.started": "2024-04-10T15:21:24.076312Z"
    }
   },
   "outputs": [],
   "source": [
    "def predict_price(location):\n",
    "    \"\"\"\n",
    "    Generate prediction of one location\n",
    "    Returns turple\n",
    "        index 0: prediction\n",
    "        index 1: Real Value\n",
    "    \"\"\"\n",
    "    try:\n",
    "        index = np.where(X.columns==location)[0][0]\n",
    "        y_pred = round(reg_model.predict(X[X.index ==index])[0], 2)\n",
    "        return(f'Prediction: {y_pred}, Real value: {y[y.index ==index].to_list()[0]}')\n",
    "    except Exception as e:\n",
    "        return None\n"
   ]
  },
  {
   "cell_type": "code",
   "execution_count": 395,
   "metadata": {},
   "outputs": [],
   "source": [
    "#Initialize output area\n",
    "output = widgets.Output()"
   ]
  },
  {
   "cell_type": "code",
   "execution_count": 396,
   "metadata": {},
   "outputs": [],
   "source": [
    "def on_dropdown_value_change(change):\n",
    "    location = change['new']\n",
    "    with output:\n",
    "        output.clear_output()\n",
    "        prediction = predict_price(location)\n",
    "        output.append_display_data(display_object=prediction)\n",
    "        f\"Prediction for {location} is: {prediction} Price\""
   ]
  },
  {
   "cell_type": "code",
   "execution_count": 397,
   "metadata": {},
   "outputs": [],
   "source": [
    "options = [location for location in X.columns.to_list() if location.startswith('location')]\n",
    "dropdown = widgets.Dropdown(\n",
    "    options=options,\n",
    "    value=options[49],\n",
    "    description=\"Location Dropdown\"\n",
    ")"
   ]
  },
  {
   "cell_type": "code",
   "execution_count": 398,
   "metadata": {},
   "outputs": [
    {
     "data": {
      "application/vnd.jupyter.widget-view+json": {
       "model_id": "36be97b71ecf4a6f9b4208503ea547c3",
       "version_major": 2,
       "version_minor": 0
      },
      "text/plain": [
       "Dropdown(description='Location Dropdown', index=49, options=('location_ Devarachikkanahalli', 'location_1st Bl…"
      ]
     },
     "metadata": {},
     "output_type": "display_data"
    },
    {
     "data": {
      "application/vnd.jupyter.widget-view+json": {
       "model_id": "d29f0b945549441a9555b51c9e9d5779",
       "version_major": 2,
       "version_minor": 0
      },
      "text/plain": [
       "Output()"
      ]
     },
     "metadata": {},
     "output_type": "display_data"
    }
   ],
   "source": [
    "from IPython.display import display\n",
    "display(dropdown, output)\n",
    "#Attachhing observer function which run when value in dropdown changes\n",
    "dropdown.observe(on_dropdown_value_change, names='value')"
   ]
  }
 ],
 "metadata": {
  "kaggle": {
   "accelerator": "gpu",
   "dataSources": [
    {
     "datasetId": 88705,
     "sourceId": 204267,
     "sourceType": "datasetVersion"
    },
    {
     "datasetId": 898072,
     "sourceId": 1523358,
     "sourceType": "datasetVersion"
    },
    {
     "datasetId": 1138397,
     "sourceId": 1909531,
     "sourceType": "datasetVersion"
    },
    {
     "datasetId": 2124944,
     "sourceId": 3532655,
     "sourceType": "datasetVersion"
    },
    {
     "datasetId": 2642334,
     "sourceId": 4521586,
     "sourceType": "datasetVersion"
    },
    {
     "datasetId": 3113714,
     "sourceId": 5365001,
     "sourceType": "datasetVersion"
    },
    {
     "datasetId": 3474192,
     "sourceId": 6070136,
     "sourceType": "datasetVersion"
    },
    {
     "datasetId": 3669400,
     "sourceId": 6368902,
     "sourceType": "datasetVersion"
    },
    {
     "datasetId": 3703429,
     "sourceId": 6420107,
     "sourceType": "datasetVersion"
    },
    {
     "datasetId": 3831083,
     "sourceId": 6636359,
     "sourceType": "datasetVersion"
    },
    {
     "datasetId": 3859674,
     "sourceId": 6694481,
     "sourceType": "datasetVersion"
    },
    {
     "datasetId": 3911251,
     "sourceId": 6807827,
     "sourceType": "datasetVersion"
    },
    {
     "datasetId": 4126647,
     "sourceId": 7147995,
     "sourceType": "datasetVersion"
    },
    {
     "datasetId": 4246446,
     "sourceId": 7317766,
     "sourceType": "datasetVersion"
    },
    {
     "datasetId": 4592113,
     "sourceId": 7834562,
     "sourceType": "datasetVersion"
    },
    {
     "datasetId": 3202774,
     "sourceId": 7981839,
     "sourceType": "datasetVersion"
    }
   ],
   "dockerImageVersionId": 30665,
   "isGpuEnabled": true,
   "isInternetEnabled": true,
   "language": "python",
   "sourceType": "notebook"
  },
  "kernelspec": {
   "display_name": "Python 3 (ipykernel)",
   "language": "python",
   "name": "python3"
  },
  "language_info": {
   "codemirror_mode": {
    "name": "ipython",
    "version": 3
   },
   "file_extension": ".py",
   "mimetype": "text/x-python",
   "name": "python",
   "nbconvert_exporter": "python",
   "pygments_lexer": "ipython3",
   "version": "3.11.5"
  }
 },
 "nbformat": 4,
 "nbformat_minor": 4
}
